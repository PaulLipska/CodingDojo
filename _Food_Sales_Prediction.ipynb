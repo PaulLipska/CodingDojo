{
  "nbformat": 4,
  "nbformat_minor": 0,
  "metadata": {
    "colab": {
      "provenance": [],
      "include_colab_link": true
    },
    "kernelspec": {
      "name": "python3",
      "display_name": "Python 3"
    },
    "language_info": {
      "name": "python"
    }
  },
  "cells": [
    {
      "cell_type": "markdown",
      "metadata": {
        "id": "view-in-github",
        "colab_type": "text"
      },
      "source": [
        "<a href=\"https://colab.research.google.com/github/PaulLipska/Food-Sales-Predictions/blob/main/_Food_Sales_Prediction.ipynb\" target=\"_parent\"><img src=\"https://colab.research.google.com/assets/colab-badge.svg\" alt=\"Open In Colab\"/></a>"
      ]
    },
    {
      "cell_type": "markdown",
      "source": [
        "# **Food_Sales_Predictions**\n",
        "  "
      ],
      "metadata": {
        "id": "t8_0N415s66c"
      }
    },
    {
      "cell_type": "code",
      "source": [],
      "metadata": {
        "id": "iJtHFWfIvHQf"
      },
      "execution_count": null,
      "outputs": []
    },
    {
      "cell_type": "markdown",
      "source": [
        "## Loading Data"
      ],
      "metadata": {
        "id": "_2x8A5OttTca"
      }
    },
    {
      "cell_type": "code",
      "source": [
        "import pandas as pd\n",
        "import numpy as np\n",
        "import matplotlib.pyplot as plt\n",
        "import seaborn as sns"
      ],
      "metadata": {
        "id": "4qA56vgRu-1L"
      },
      "execution_count": 124,
      "outputs": []
    },
    {
      "cell_type": "code",
      "source": [
        "from google.colab import drive\n",
        "drive.mount('/content/drive')"
      ],
      "metadata": {
        "colab": {
          "base_uri": "https://localhost:8080/"
        },
        "id": "8fpX9SneTxpj",
        "outputId": "34a532ed-af6f-47e2-abfa-ca49022d676b"
      },
      "execution_count": 125,
      "outputs": [
        {
          "output_type": "stream",
          "name": "stdout",
          "text": [
            "Drive already mounted at /content/drive; to attempt to forcibly remount, call drive.mount(\"/content/drive\", force_remount=True).\n"
          ]
        }
      ]
    },
    {
      "cell_type": "code",
      "source": [
        "filename = '/content/drive/MyDrive/CodingDojo/02_Week_2:Pandas/sales_predictions/sales_predictions.csv'\n",
        "df = pd.read_csv(filename)\n",
        "df.tail()"
      ],
      "metadata": {
        "id": "hjQzOFXA5KeI",
        "colab": {
          "base_uri": "https://localhost:8080/",
          "height": 357
        },
        "outputId": "c308f46a-91b1-432e-8be7-9a7fd447ab8d"
      },
      "execution_count": 126,
      "outputs": [
        {
          "output_type": "execute_result",
          "data": {
            "text/plain": [
              "     Item_Identifier  Item_Weight Item_Fat_Content  Item_Visibility  \\\n",
              "8518           FDF22        6.865          Low Fat         0.056783   \n",
              "8519           FDS36        8.380          Regular         0.046982   \n",
              "8520           NCJ29       10.600          Low Fat         0.035186   \n",
              "8521           FDN46        7.210          Regular         0.145221   \n",
              "8522           DRG01       14.800          Low Fat         0.044878   \n",
              "\n",
              "               Item_Type  Item_MRP Outlet_Identifier  \\\n",
              "8518         Snack Foods  214.5218            OUT013   \n",
              "8519        Baking Goods  108.1570            OUT045   \n",
              "8520  Health and Hygiene   85.1224            OUT035   \n",
              "8521         Snack Foods  103.1332            OUT018   \n",
              "8522         Soft Drinks   75.4670            OUT046   \n",
              "\n",
              "      Outlet_Establishment_Year Outlet_Size Outlet_Location_Type  \\\n",
              "8518                       1987        High               Tier 3   \n",
              "8519                       2002         NaN               Tier 2   \n",
              "8520                       2004       Small               Tier 2   \n",
              "8521                       2009      Medium               Tier 3   \n",
              "8522                       1997       Small               Tier 1   \n",
              "\n",
              "            Outlet_Type  Item_Outlet_Sales  \n",
              "8518  Supermarket Type1          2778.3834  \n",
              "8519  Supermarket Type1           549.2850  \n",
              "8520  Supermarket Type1          1193.1136  \n",
              "8521  Supermarket Type2          1845.5976  \n",
              "8522  Supermarket Type1           765.6700  "
            ],
            "text/html": [
              "\n",
              "  <div id=\"df-2096f8d7-f835-4cf5-abcf-39b268765701\">\n",
              "    <div class=\"colab-df-container\">\n",
              "      <div>\n",
              "<style scoped>\n",
              "    .dataframe tbody tr th:only-of-type {\n",
              "        vertical-align: middle;\n",
              "    }\n",
              "\n",
              "    .dataframe tbody tr th {\n",
              "        vertical-align: top;\n",
              "    }\n",
              "\n",
              "    .dataframe thead th {\n",
              "        text-align: right;\n",
              "    }\n",
              "</style>\n",
              "<table border=\"1\" class=\"dataframe\">\n",
              "  <thead>\n",
              "    <tr style=\"text-align: right;\">\n",
              "      <th></th>\n",
              "      <th>Item_Identifier</th>\n",
              "      <th>Item_Weight</th>\n",
              "      <th>Item_Fat_Content</th>\n",
              "      <th>Item_Visibility</th>\n",
              "      <th>Item_Type</th>\n",
              "      <th>Item_MRP</th>\n",
              "      <th>Outlet_Identifier</th>\n",
              "      <th>Outlet_Establishment_Year</th>\n",
              "      <th>Outlet_Size</th>\n",
              "      <th>Outlet_Location_Type</th>\n",
              "      <th>Outlet_Type</th>\n",
              "      <th>Item_Outlet_Sales</th>\n",
              "    </tr>\n",
              "  </thead>\n",
              "  <tbody>\n",
              "    <tr>\n",
              "      <th>8518</th>\n",
              "      <td>FDF22</td>\n",
              "      <td>6.865</td>\n",
              "      <td>Low Fat</td>\n",
              "      <td>0.056783</td>\n",
              "      <td>Snack Foods</td>\n",
              "      <td>214.5218</td>\n",
              "      <td>OUT013</td>\n",
              "      <td>1987</td>\n",
              "      <td>High</td>\n",
              "      <td>Tier 3</td>\n",
              "      <td>Supermarket Type1</td>\n",
              "      <td>2778.3834</td>\n",
              "    </tr>\n",
              "    <tr>\n",
              "      <th>8519</th>\n",
              "      <td>FDS36</td>\n",
              "      <td>8.380</td>\n",
              "      <td>Regular</td>\n",
              "      <td>0.046982</td>\n",
              "      <td>Baking Goods</td>\n",
              "      <td>108.1570</td>\n",
              "      <td>OUT045</td>\n",
              "      <td>2002</td>\n",
              "      <td>NaN</td>\n",
              "      <td>Tier 2</td>\n",
              "      <td>Supermarket Type1</td>\n",
              "      <td>549.2850</td>\n",
              "    </tr>\n",
              "    <tr>\n",
              "      <th>8520</th>\n",
              "      <td>NCJ29</td>\n",
              "      <td>10.600</td>\n",
              "      <td>Low Fat</td>\n",
              "      <td>0.035186</td>\n",
              "      <td>Health and Hygiene</td>\n",
              "      <td>85.1224</td>\n",
              "      <td>OUT035</td>\n",
              "      <td>2004</td>\n",
              "      <td>Small</td>\n",
              "      <td>Tier 2</td>\n",
              "      <td>Supermarket Type1</td>\n",
              "      <td>1193.1136</td>\n",
              "    </tr>\n",
              "    <tr>\n",
              "      <th>8521</th>\n",
              "      <td>FDN46</td>\n",
              "      <td>7.210</td>\n",
              "      <td>Regular</td>\n",
              "      <td>0.145221</td>\n",
              "      <td>Snack Foods</td>\n",
              "      <td>103.1332</td>\n",
              "      <td>OUT018</td>\n",
              "      <td>2009</td>\n",
              "      <td>Medium</td>\n",
              "      <td>Tier 3</td>\n",
              "      <td>Supermarket Type2</td>\n",
              "      <td>1845.5976</td>\n",
              "    </tr>\n",
              "    <tr>\n",
              "      <th>8522</th>\n",
              "      <td>DRG01</td>\n",
              "      <td>14.800</td>\n",
              "      <td>Low Fat</td>\n",
              "      <td>0.044878</td>\n",
              "      <td>Soft Drinks</td>\n",
              "      <td>75.4670</td>\n",
              "      <td>OUT046</td>\n",
              "      <td>1997</td>\n",
              "      <td>Small</td>\n",
              "      <td>Tier 1</td>\n",
              "      <td>Supermarket Type1</td>\n",
              "      <td>765.6700</td>\n",
              "    </tr>\n",
              "  </tbody>\n",
              "</table>\n",
              "</div>\n",
              "      <button class=\"colab-df-convert\" onclick=\"convertToInteractive('df-2096f8d7-f835-4cf5-abcf-39b268765701')\"\n",
              "              title=\"Convert this dataframe to an interactive table.\"\n",
              "              style=\"display:none;\">\n",
              "        \n",
              "  <svg xmlns=\"http://www.w3.org/2000/svg\" height=\"24px\"viewBox=\"0 0 24 24\"\n",
              "       width=\"24px\">\n",
              "    <path d=\"M0 0h24v24H0V0z\" fill=\"none\"/>\n",
              "    <path d=\"M18.56 5.44l.94 2.06.94-2.06 2.06-.94-2.06-.94-.94-2.06-.94 2.06-2.06.94zm-11 1L8.5 8.5l.94-2.06 2.06-.94-2.06-.94L8.5 2.5l-.94 2.06-2.06.94zm10 10l.94 2.06.94-2.06 2.06-.94-2.06-.94-.94-2.06-.94 2.06-2.06.94z\"/><path d=\"M17.41 7.96l-1.37-1.37c-.4-.4-.92-.59-1.43-.59-.52 0-1.04.2-1.43.59L10.3 9.45l-7.72 7.72c-.78.78-.78 2.05 0 2.83L4 21.41c.39.39.9.59 1.41.59.51 0 1.02-.2 1.41-.59l7.78-7.78 2.81-2.81c.8-.78.8-2.07 0-2.86zM5.41 20L4 18.59l7.72-7.72 1.47 1.35L5.41 20z\"/>\n",
              "  </svg>\n",
              "      </button>\n",
              "      \n",
              "  <style>\n",
              "    .colab-df-container {\n",
              "      display:flex;\n",
              "      flex-wrap:wrap;\n",
              "      gap: 12px;\n",
              "    }\n",
              "\n",
              "    .colab-df-convert {\n",
              "      background-color: #E8F0FE;\n",
              "      border: none;\n",
              "      border-radius: 50%;\n",
              "      cursor: pointer;\n",
              "      display: none;\n",
              "      fill: #1967D2;\n",
              "      height: 32px;\n",
              "      padding: 0 0 0 0;\n",
              "      width: 32px;\n",
              "    }\n",
              "\n",
              "    .colab-df-convert:hover {\n",
              "      background-color: #E2EBFA;\n",
              "      box-shadow: 0px 1px 2px rgba(60, 64, 67, 0.3), 0px 1px 3px 1px rgba(60, 64, 67, 0.15);\n",
              "      fill: #174EA6;\n",
              "    }\n",
              "\n",
              "    [theme=dark] .colab-df-convert {\n",
              "      background-color: #3B4455;\n",
              "      fill: #D2E3FC;\n",
              "    }\n",
              "\n",
              "    [theme=dark] .colab-df-convert:hover {\n",
              "      background-color: #434B5C;\n",
              "      box-shadow: 0px 1px 3px 1px rgba(0, 0, 0, 0.15);\n",
              "      filter: drop-shadow(0px 1px 2px rgba(0, 0, 0, 0.3));\n",
              "      fill: #FFFFFF;\n",
              "    }\n",
              "  </style>\n",
              "\n",
              "      <script>\n",
              "        const buttonEl =\n",
              "          document.querySelector('#df-2096f8d7-f835-4cf5-abcf-39b268765701 button.colab-df-convert');\n",
              "        buttonEl.style.display =\n",
              "          google.colab.kernel.accessAllowed ? 'block' : 'none';\n",
              "\n",
              "        async function convertToInteractive(key) {\n",
              "          const element = document.querySelector('#df-2096f8d7-f835-4cf5-abcf-39b268765701');\n",
              "          const dataTable =\n",
              "            await google.colab.kernel.invokeFunction('convertToInteractive',\n",
              "                                                     [key], {});\n",
              "          if (!dataTable) return;\n",
              "\n",
              "          const docLinkHtml = 'Like what you see? Visit the ' +\n",
              "            '<a target=\"_blank\" href=https://colab.research.google.com/notebooks/data_table.ipynb>data table notebook</a>'\n",
              "            + ' to learn more about interactive tables.';\n",
              "          element.innerHTML = '';\n",
              "          dataTable['output_type'] = 'display_data';\n",
              "          await google.colab.output.renderOutput(dataTable, element);\n",
              "          const docLink = document.createElement('div');\n",
              "          docLink.innerHTML = docLinkHtml;\n",
              "          element.appendChild(docLink);\n",
              "        }\n",
              "      </script>\n",
              "    </div>\n",
              "  </div>\n",
              "  "
            ]
          },
          "metadata": {},
          "execution_count": 126
        }
      ]
    },
    {
      "cell_type": "markdown",
      "source": [
        "## Data Cleaning"
      ],
      "metadata": {
        "id": "cpVOXanBuiId"
      }
    },
    {
      "cell_type": "code",
      "source": [
        "df.shape"
      ],
      "metadata": {
        "id": "SQs0yNUfvAGa",
        "colab": {
          "base_uri": "https://localhost:8080/"
        },
        "outputId": "c51f18d4-9644-4a5a-b6d9-00105b87b743"
      },
      "execution_count": 127,
      "outputs": [
        {
          "output_type": "execute_result",
          "data": {
            "text/plain": [
              "(8523, 12)"
            ]
          },
          "metadata": {},
          "execution_count": 127
        }
      ]
    },
    {
      "cell_type": "markdown",
      "source": [
        "      * There are 8523 rows and 12 columns"
      ],
      "metadata": {
        "id": "GIhutvG_Whq1"
      }
    },
    {
      "cell_type": "code",
      "source": [
        "df.dtypes"
      ],
      "metadata": {
        "colab": {
          "base_uri": "https://localhost:8080/"
        },
        "id": "e7QV6ZxeVWSy",
        "outputId": "ee6ee879-54b5-41f3-fab9-e63f919e617f"
      },
      "execution_count": 128,
      "outputs": [
        {
          "output_type": "execute_result",
          "data": {
            "text/plain": [
              "Item_Identifier               object\n",
              "Item_Weight                  float64\n",
              "Item_Fat_Content              object\n",
              "Item_Visibility              float64\n",
              "Item_Type                     object\n",
              "Item_MRP                     float64\n",
              "Outlet_Identifier             object\n",
              "Outlet_Establishment_Year      int64\n",
              "Outlet_Size                   object\n",
              "Outlet_Location_Type          object\n",
              "Outlet_Type                   object\n",
              "Item_Outlet_Sales            float64\n",
              "dtype: object"
            ]
          },
          "metadata": {},
          "execution_count": 128
        }
      ]
    },
    {
      "cell_type": "code",
      "source": [
        "df['Item_Fat_Content'].value_counts()"
      ],
      "metadata": {
        "id": "MRBw1mhEy3ye",
        "colab": {
          "base_uri": "https://localhost:8080/"
        },
        "outputId": "6a6afb7d-77a4-44d7-88c4-0e72b96549e6"
      },
      "execution_count": 129,
      "outputs": [
        {
          "output_type": "execute_result",
          "data": {
            "text/plain": [
              "Low Fat    5089\n",
              "Regular    2889\n",
              "LF          316\n",
              "reg         117\n",
              "low fat     112\n",
              "Name: Item_Fat_Content, dtype: int64"
            ]
          },
          "metadata": {},
          "execution_count": 129
        }
      ]
    },
    {
      "cell_type": "markdown",
      "source": [
        "Identified irregular strings meant to resemble the same data"
      ],
      "metadata": {
        "id": "Q1Kacx_tAp9V"
      }
    },
    {
      "cell_type": "code",
      "source": [
        "\n",
        "df['Item_Fat_Content'] = df['Item_Fat_Content'].replace('LF', 'Low Fat')\n",
        "df['Item_Fat_Content'] = df['Item_Fat_Content'].replace('reg', 'Regular')\n",
        "df['Item_Fat_Content'] = df['Item_Fat_Content'].replace('low fat', 'Low Fat')"
      ],
      "metadata": {
        "id": "HYrBKaRXA3IC"
      },
      "execution_count": 130,
      "outputs": []
    },
    {
      "cell_type": "code",
      "source": [
        "df['Item_Fat_Content'].value_counts()"
      ],
      "metadata": {
        "colab": {
          "base_uri": "https://localhost:8080/"
        },
        "id": "DgwNIUgxB2B1",
        "outputId": "0127916c-0d3d-4e7e-cefd-014d2d153368"
      },
      "execution_count": 131,
      "outputs": [
        {
          "output_type": "execute_result",
          "data": {
            "text/plain": [
              "Low Fat    5517\n",
              "Regular    3006\n",
              "Name: Item_Fat_Content, dtype: int64"
            ]
          },
          "metadata": {},
          "execution_count": 131
        }
      ]
    },
    {
      "cell_type": "markdown",
      "source": [
        "Column 'Item_Fat_Content' cleaned"
      ],
      "metadata": {
        "id": "cNabtSUrCeE6"
      }
    },
    {
      "cell_type": "code",
      "source": [
        "df['Outlet_Type'].value_counts()"
      ],
      "metadata": {
        "colab": {
          "base_uri": "https://localhost:8080/"
        },
        "id": "ouFqn4QNCqUY",
        "outputId": "567544e1-cd24-478a-cf13-207b49b9a2ba"
      },
      "execution_count": 132,
      "outputs": [
        {
          "output_type": "execute_result",
          "data": {
            "text/plain": [
              "Supermarket Type1    5577\n",
              "Grocery Store        1083\n",
              "Supermarket Type3     935\n",
              "Supermarket Type2     928\n",
              "Name: Outlet_Type, dtype: int64"
            ]
          },
          "metadata": {},
          "execution_count": 132
        }
      ]
    },
    {
      "cell_type": "markdown",
      "source": [
        "Grocery Store could be perceived as a fourth type.  Changing data to conform"
      ],
      "metadata": {
        "id": "Y2unitluDHTD"
      }
    },
    {
      "cell_type": "code",
      "source": [
        "\n",
        "df['Outlet_Type'] = df['Outlet_Type'].replace('Grocery Store', 'Supermarket Type4')"
      ],
      "metadata": {
        "id": "UvzWXdA1-xcx"
      },
      "execution_count": 134,
      "outputs": []
    },
    {
      "cell_type": "code",
      "source": [
        "df['Outlet_Type'].value_counts()"
      ],
      "metadata": {
        "colab": {
          "base_uri": "https://localhost:8080/"
        },
        "id": "KAGGeAGhVbRM",
        "outputId": "93eb716f-ac6f-466a-dcd0-82ee34ea89e0"
      },
      "execution_count": 135,
      "outputs": [
        {
          "output_type": "execute_result",
          "data": {
            "text/plain": [
              "Supermarket Type1    5577\n",
              "Supermarket Type4    1083\n",
              "Supermarket Type3     935\n",
              "Supermarket Type2     928\n",
              "Name: Outlet_Type, dtype: int64"
            ]
          },
          "metadata": {},
          "execution_count": 135
        }
      ]
    },
    {
      "cell_type": "markdown",
      "source": [
        "This fits better with the data"
      ],
      "metadata": {
        "id": "EIOAC9u1Exw2"
      }
    },
    {
      "cell_type": "markdown",
      "source": [
        "Reviewing integers and floats, found no glaring differences.  Formating data for dollar ammounts by rounding to 2nd place"
      ],
      "metadata": {
        "id": "xQOzYuKwFGVF"
      }
    },
    {
      "cell_type": "code",
      "source": [
        "\n",
        "df['Item_MRP'] = df['Item_MRP'].round(2)\n",
        "df['Item_Outlet_Sales'] = df['Item_Outlet_Sales'].round(2)\n",
        "df.head()"
      ],
      "metadata": {
        "colab": {
          "base_uri": "https://localhost:8080/",
          "height": 357
        },
        "id": "2YLljn2KJNM0",
        "outputId": "863753eb-dbbc-4ca6-bf9c-f76e6b8243c0"
      },
      "execution_count": 137,
      "outputs": [
        {
          "output_type": "execute_result",
          "data": {
            "text/plain": [
              "  Item_Identifier  Item_Weight Item_Fat_Content  Item_Visibility  \\\n",
              "0           FDA15         9.30          Low Fat         0.016047   \n",
              "1           DRC01         5.92          Regular         0.019278   \n",
              "2           FDN15        17.50          Low Fat         0.016760   \n",
              "3           FDX07        19.20          Regular         0.000000   \n",
              "4           NCD19         8.93          Low Fat         0.000000   \n",
              "\n",
              "               Item_Type  Item_MRP Outlet_Identifier  \\\n",
              "0                  Dairy    249.81            OUT049   \n",
              "1            Soft Drinks     48.27            OUT018   \n",
              "2                   Meat    141.62            OUT049   \n",
              "3  Fruits and Vegetables    182.10            OUT010   \n",
              "4              Household     53.86            OUT013   \n",
              "\n",
              "   Outlet_Establishment_Year Outlet_Size Outlet_Location_Type  \\\n",
              "0                       1999      Medium               Tier 1   \n",
              "1                       2009      Medium               Tier 3   \n",
              "2                       1999      Medium               Tier 1   \n",
              "3                       1998         NaN               Tier 3   \n",
              "4                       1987        High               Tier 3   \n",
              "\n",
              "         Outlet_Type  Item_Outlet_Sales  \n",
              "0  Supermarket Type1            3735.14  \n",
              "1  Supermarket Type2             443.42  \n",
              "2  Supermarket Type1            2097.27  \n",
              "3  Supermarket Type4             732.38  \n",
              "4  Supermarket Type1             994.71  "
            ],
            "text/html": [
              "\n",
              "  <div id=\"df-81ba69f4-6d64-4003-9fa7-6f25fc943bd3\">\n",
              "    <div class=\"colab-df-container\">\n",
              "      <div>\n",
              "<style scoped>\n",
              "    .dataframe tbody tr th:only-of-type {\n",
              "        vertical-align: middle;\n",
              "    }\n",
              "\n",
              "    .dataframe tbody tr th {\n",
              "        vertical-align: top;\n",
              "    }\n",
              "\n",
              "    .dataframe thead th {\n",
              "        text-align: right;\n",
              "    }\n",
              "</style>\n",
              "<table border=\"1\" class=\"dataframe\">\n",
              "  <thead>\n",
              "    <tr style=\"text-align: right;\">\n",
              "      <th></th>\n",
              "      <th>Item_Identifier</th>\n",
              "      <th>Item_Weight</th>\n",
              "      <th>Item_Fat_Content</th>\n",
              "      <th>Item_Visibility</th>\n",
              "      <th>Item_Type</th>\n",
              "      <th>Item_MRP</th>\n",
              "      <th>Outlet_Identifier</th>\n",
              "      <th>Outlet_Establishment_Year</th>\n",
              "      <th>Outlet_Size</th>\n",
              "      <th>Outlet_Location_Type</th>\n",
              "      <th>Outlet_Type</th>\n",
              "      <th>Item_Outlet_Sales</th>\n",
              "    </tr>\n",
              "  </thead>\n",
              "  <tbody>\n",
              "    <tr>\n",
              "      <th>0</th>\n",
              "      <td>FDA15</td>\n",
              "      <td>9.30</td>\n",
              "      <td>Low Fat</td>\n",
              "      <td>0.016047</td>\n",
              "      <td>Dairy</td>\n",
              "      <td>249.81</td>\n",
              "      <td>OUT049</td>\n",
              "      <td>1999</td>\n",
              "      <td>Medium</td>\n",
              "      <td>Tier 1</td>\n",
              "      <td>Supermarket Type1</td>\n",
              "      <td>3735.14</td>\n",
              "    </tr>\n",
              "    <tr>\n",
              "      <th>1</th>\n",
              "      <td>DRC01</td>\n",
              "      <td>5.92</td>\n",
              "      <td>Regular</td>\n",
              "      <td>0.019278</td>\n",
              "      <td>Soft Drinks</td>\n",
              "      <td>48.27</td>\n",
              "      <td>OUT018</td>\n",
              "      <td>2009</td>\n",
              "      <td>Medium</td>\n",
              "      <td>Tier 3</td>\n",
              "      <td>Supermarket Type2</td>\n",
              "      <td>443.42</td>\n",
              "    </tr>\n",
              "    <tr>\n",
              "      <th>2</th>\n",
              "      <td>FDN15</td>\n",
              "      <td>17.50</td>\n",
              "      <td>Low Fat</td>\n",
              "      <td>0.016760</td>\n",
              "      <td>Meat</td>\n",
              "      <td>141.62</td>\n",
              "      <td>OUT049</td>\n",
              "      <td>1999</td>\n",
              "      <td>Medium</td>\n",
              "      <td>Tier 1</td>\n",
              "      <td>Supermarket Type1</td>\n",
              "      <td>2097.27</td>\n",
              "    </tr>\n",
              "    <tr>\n",
              "      <th>3</th>\n",
              "      <td>FDX07</td>\n",
              "      <td>19.20</td>\n",
              "      <td>Regular</td>\n",
              "      <td>0.000000</td>\n",
              "      <td>Fruits and Vegetables</td>\n",
              "      <td>182.10</td>\n",
              "      <td>OUT010</td>\n",
              "      <td>1998</td>\n",
              "      <td>NaN</td>\n",
              "      <td>Tier 3</td>\n",
              "      <td>Supermarket Type4</td>\n",
              "      <td>732.38</td>\n",
              "    </tr>\n",
              "    <tr>\n",
              "      <th>4</th>\n",
              "      <td>NCD19</td>\n",
              "      <td>8.93</td>\n",
              "      <td>Low Fat</td>\n",
              "      <td>0.000000</td>\n",
              "      <td>Household</td>\n",
              "      <td>53.86</td>\n",
              "      <td>OUT013</td>\n",
              "      <td>1987</td>\n",
              "      <td>High</td>\n",
              "      <td>Tier 3</td>\n",
              "      <td>Supermarket Type1</td>\n",
              "      <td>994.71</td>\n",
              "    </tr>\n",
              "  </tbody>\n",
              "</table>\n",
              "</div>\n",
              "      <button class=\"colab-df-convert\" onclick=\"convertToInteractive('df-81ba69f4-6d64-4003-9fa7-6f25fc943bd3')\"\n",
              "              title=\"Convert this dataframe to an interactive table.\"\n",
              "              style=\"display:none;\">\n",
              "        \n",
              "  <svg xmlns=\"http://www.w3.org/2000/svg\" height=\"24px\"viewBox=\"0 0 24 24\"\n",
              "       width=\"24px\">\n",
              "    <path d=\"M0 0h24v24H0V0z\" fill=\"none\"/>\n",
              "    <path d=\"M18.56 5.44l.94 2.06.94-2.06 2.06-.94-2.06-.94-.94-2.06-.94 2.06-2.06.94zm-11 1L8.5 8.5l.94-2.06 2.06-.94-2.06-.94L8.5 2.5l-.94 2.06-2.06.94zm10 10l.94 2.06.94-2.06 2.06-.94-2.06-.94-.94-2.06-.94 2.06-2.06.94z\"/><path d=\"M17.41 7.96l-1.37-1.37c-.4-.4-.92-.59-1.43-.59-.52 0-1.04.2-1.43.59L10.3 9.45l-7.72 7.72c-.78.78-.78 2.05 0 2.83L4 21.41c.39.39.9.59 1.41.59.51 0 1.02-.2 1.41-.59l7.78-7.78 2.81-2.81c.8-.78.8-2.07 0-2.86zM5.41 20L4 18.59l7.72-7.72 1.47 1.35L5.41 20z\"/>\n",
              "  </svg>\n",
              "      </button>\n",
              "      \n",
              "  <style>\n",
              "    .colab-df-container {\n",
              "      display:flex;\n",
              "      flex-wrap:wrap;\n",
              "      gap: 12px;\n",
              "    }\n",
              "\n",
              "    .colab-df-convert {\n",
              "      background-color: #E8F0FE;\n",
              "      border: none;\n",
              "      border-radius: 50%;\n",
              "      cursor: pointer;\n",
              "      display: none;\n",
              "      fill: #1967D2;\n",
              "      height: 32px;\n",
              "      padding: 0 0 0 0;\n",
              "      width: 32px;\n",
              "    }\n",
              "\n",
              "    .colab-df-convert:hover {\n",
              "      background-color: #E2EBFA;\n",
              "      box-shadow: 0px 1px 2px rgba(60, 64, 67, 0.3), 0px 1px 3px 1px rgba(60, 64, 67, 0.15);\n",
              "      fill: #174EA6;\n",
              "    }\n",
              "\n",
              "    [theme=dark] .colab-df-convert {\n",
              "      background-color: #3B4455;\n",
              "      fill: #D2E3FC;\n",
              "    }\n",
              "\n",
              "    [theme=dark] .colab-df-convert:hover {\n",
              "      background-color: #434B5C;\n",
              "      box-shadow: 0px 1px 3px 1px rgba(0, 0, 0, 0.15);\n",
              "      filter: drop-shadow(0px 1px 2px rgba(0, 0, 0, 0.3));\n",
              "      fill: #FFFFFF;\n",
              "    }\n",
              "  </style>\n",
              "\n",
              "      <script>\n",
              "        const buttonEl =\n",
              "          document.querySelector('#df-81ba69f4-6d64-4003-9fa7-6f25fc943bd3 button.colab-df-convert');\n",
              "        buttonEl.style.display =\n",
              "          google.colab.kernel.accessAllowed ? 'block' : 'none';\n",
              "\n",
              "        async function convertToInteractive(key) {\n",
              "          const element = document.querySelector('#df-81ba69f4-6d64-4003-9fa7-6f25fc943bd3');\n",
              "          const dataTable =\n",
              "            await google.colab.kernel.invokeFunction('convertToInteractive',\n",
              "                                                     [key], {});\n",
              "          if (!dataTable) return;\n",
              "\n",
              "          const docLinkHtml = 'Like what you see? Visit the ' +\n",
              "            '<a target=\"_blank\" href=https://colab.research.google.com/notebooks/data_table.ipynb>data table notebook</a>'\n",
              "            + ' to learn more about interactive tables.';\n",
              "          element.innerHTML = '';\n",
              "          dataTable['output_type'] = 'display_data';\n",
              "          await google.colab.output.renderOutput(dataTable, element);\n",
              "          const docLink = document.createElement('div');\n",
              "          docLink.innerHTML = docLinkHtml;\n",
              "          element.appendChild(docLink);\n",
              "        }\n",
              "      </script>\n",
              "    </div>\n",
              "  </div>\n",
              "  "
            ]
          },
          "metadata": {},
          "execution_count": 137
        }
      ]
    },
    {
      "cell_type": "markdown",
      "source": [
        "Dollar values expressed correctly"
      ],
      "metadata": {
        "id": "kU1XII6ANqqQ"
      }
    },
    {
      "cell_type": "code",
      "source": [
        "df.duplicated().sum()"
      ],
      "metadata": {
        "colab": {
          "base_uri": "https://localhost:8080/"
        },
        "id": "zrAQ7kQpZgrA",
        "outputId": "1923daf2-281c-4186-aa65-f7df36648bd0"
      },
      "execution_count": 138,
      "outputs": [
        {
          "output_type": "execute_result",
          "data": {
            "text/plain": [
              "0"
            ]
          },
          "metadata": {},
          "execution_count": 138
        }
      ]
    },
    {
      "cell_type": "markdown",
      "source": [
        "  * Zero duplicates"
      ],
      "metadata": {
        "id": "LkUx60UIZjUQ"
      }
    },
    {
      "cell_type": "code",
      "source": [
        "df.isna().sum()"
      ],
      "metadata": {
        "colab": {
          "base_uri": "https://localhost:8080/"
        },
        "id": "v9FpJ-CUVen9",
        "outputId": "4d2945a5-957b-48bf-d356-478ef823e38f"
      },
      "execution_count": 145,
      "outputs": [
        {
          "output_type": "execute_result",
          "data": {
            "text/plain": [
              "Item_Identifier                 0\n",
              "Item_Weight                  1463\n",
              "Item_Fat_Content                0\n",
              "Item_Visibility                 0\n",
              "Item_Type                       0\n",
              "Item_MRP                        0\n",
              "Outlet_Identifier               0\n",
              "Outlet_Establishment_Year       0\n",
              "Outlet_Size                  2410\n",
              "Outlet_Location_Type            0\n",
              "Outlet_Type                     0\n",
              "Item_Outlet_Sales               0\n",
              "dtype: int64"
            ]
          },
          "metadata": {},
          "execution_count": 145
        }
      ]
    },
    {
      "cell_type": "markdown",
      "source": [
        "Identifying % of missing data (optional)"
      ],
      "metadata": {
        "id": "MT1w2Gh4XlD8"
      }
    },
    {
      "cell_type": "code",
      "source": [
        "df.isna().sum() / len(df) * 100"
      ],
      "metadata": {
        "colab": {
          "base_uri": "https://localhost:8080/"
        },
        "id": "fMlV6YrPXwlI",
        "outputId": "7f578472-85a4-410f-d4de-3c8eed3f16ca"
      },
      "execution_count": 140,
      "outputs": [
        {
          "output_type": "execute_result",
          "data": {
            "text/plain": [
              "Item_Identifier               0.000000\n",
              "Item_Weight                  17.165317\n",
              "Item_Fat_Content              0.000000\n",
              "Item_Visibility               0.000000\n",
              "Item_Type                     0.000000\n",
              "Item_MRP                      0.000000\n",
              "Outlet_Identifier             0.000000\n",
              "Outlet_Establishment_Year     0.000000\n",
              "Outlet_Size                  28.276428\n",
              "Outlet_Location_Type          0.000000\n",
              "Outlet_Type                   0.000000\n",
              "Item_Outlet_Sales             0.000000\n",
              "dtype: float64"
            ]
          },
          "metadata": {},
          "execution_count": 140
        }
      ]
    },
    {
      "cell_type": "code",
      "source": [
        "df[df.isna().any(axis =1)]"
      ],
      "metadata": {
        "colab": {
          "base_uri": "https://localhost:8080/",
          "height": 661
        },
        "id": "pIOhPAqdZdKw",
        "outputId": "50c7d5ed-3650-48e8-c41f-2d5505054502"
      },
      "execution_count": 147,
      "outputs": [
        {
          "output_type": "execute_result",
          "data": {
            "text/plain": [
              "     Item_Identifier  Item_Weight Item_Fat_Content  Item_Visibility  \\\n",
              "3              FDX07        19.20          Regular         0.000000   \n",
              "7              FDP10          NaN          Low Fat         0.127470   \n",
              "8              FDH17        16.20          Regular         0.016687   \n",
              "9              FDU28        19.20          Regular         0.094450   \n",
              "18             DRI11          NaN          Low Fat         0.034238   \n",
              "...              ...          ...              ...              ...   \n",
              "8504           NCN18          NaN          Low Fat         0.124111   \n",
              "8508           FDW31        11.35          Regular         0.043246   \n",
              "8509           FDG45         8.10          Low Fat         0.214306   \n",
              "8514           FDA01        15.00          Regular         0.054489   \n",
              "8519           FDS36         8.38          Regular         0.046982   \n",
              "\n",
              "                  Item_Type  Item_MRP Outlet_Identifier  \\\n",
              "3     Fruits and Vegetables    182.10            OUT010   \n",
              "7               Snack Foods    107.76            OUT027   \n",
              "8              Frozen Foods     96.97            OUT045   \n",
              "9              Frozen Foods    187.82            OUT017   \n",
              "18              Hard Drinks    113.28            OUT027   \n",
              "...                     ...       ...               ...   \n",
              "8504              Household    111.75            OUT027   \n",
              "8508  Fruits and Vegetables    199.47            OUT045   \n",
              "8509  Fruits and Vegetables    213.99            OUT010   \n",
              "8514                 Canned     57.59            OUT045   \n",
              "8519           Baking Goods    108.16            OUT045   \n",
              "\n",
              "      Outlet_Establishment_Year Outlet_Size Outlet_Location_Type  \\\n",
              "3                          1998         NaN               Tier 3   \n",
              "7                          1985      Medium               Tier 3   \n",
              "8                          2002         NaN               Tier 2   \n",
              "9                          2007         NaN               Tier 2   \n",
              "18                         1985      Medium               Tier 3   \n",
              "...                         ...         ...                  ...   \n",
              "8504                       1985      Medium               Tier 3   \n",
              "8508                       2002         NaN               Tier 2   \n",
              "8509                       1998         NaN               Tier 3   \n",
              "8514                       2002         NaN               Tier 2   \n",
              "8519                       2002         NaN               Tier 2   \n",
              "\n",
              "            Outlet_Type  Item_Outlet_Sales  \n",
              "3     Supermarket Type4             732.38  \n",
              "7     Supermarket Type3            4022.76  \n",
              "8     Supermarket Type1            1076.60  \n",
              "9     Supermarket Type1            4710.54  \n",
              "18    Supermarket Type3            2303.67  \n",
              "...                 ...                ...  \n",
              "8504  Supermarket Type3            4138.61  \n",
              "8508  Supermarket Type1            2587.96  \n",
              "8509  Supermarket Type4             424.78  \n",
              "8514  Supermarket Type1             468.72  \n",
              "8519  Supermarket Type1             549.28  \n",
              "\n",
              "[3873 rows x 12 columns]"
            ],
            "text/html": [
              "\n",
              "  <div id=\"df-93b005c1-20ac-4ee7-aa09-69b77944f6df\">\n",
              "    <div class=\"colab-df-container\">\n",
              "      <div>\n",
              "<style scoped>\n",
              "    .dataframe tbody tr th:only-of-type {\n",
              "        vertical-align: middle;\n",
              "    }\n",
              "\n",
              "    .dataframe tbody tr th {\n",
              "        vertical-align: top;\n",
              "    }\n",
              "\n",
              "    .dataframe thead th {\n",
              "        text-align: right;\n",
              "    }\n",
              "</style>\n",
              "<table border=\"1\" class=\"dataframe\">\n",
              "  <thead>\n",
              "    <tr style=\"text-align: right;\">\n",
              "      <th></th>\n",
              "      <th>Item_Identifier</th>\n",
              "      <th>Item_Weight</th>\n",
              "      <th>Item_Fat_Content</th>\n",
              "      <th>Item_Visibility</th>\n",
              "      <th>Item_Type</th>\n",
              "      <th>Item_MRP</th>\n",
              "      <th>Outlet_Identifier</th>\n",
              "      <th>Outlet_Establishment_Year</th>\n",
              "      <th>Outlet_Size</th>\n",
              "      <th>Outlet_Location_Type</th>\n",
              "      <th>Outlet_Type</th>\n",
              "      <th>Item_Outlet_Sales</th>\n",
              "    </tr>\n",
              "  </thead>\n",
              "  <tbody>\n",
              "    <tr>\n",
              "      <th>3</th>\n",
              "      <td>FDX07</td>\n",
              "      <td>19.20</td>\n",
              "      <td>Regular</td>\n",
              "      <td>0.000000</td>\n",
              "      <td>Fruits and Vegetables</td>\n",
              "      <td>182.10</td>\n",
              "      <td>OUT010</td>\n",
              "      <td>1998</td>\n",
              "      <td>NaN</td>\n",
              "      <td>Tier 3</td>\n",
              "      <td>Supermarket Type4</td>\n",
              "      <td>732.38</td>\n",
              "    </tr>\n",
              "    <tr>\n",
              "      <th>7</th>\n",
              "      <td>FDP10</td>\n",
              "      <td>NaN</td>\n",
              "      <td>Low Fat</td>\n",
              "      <td>0.127470</td>\n",
              "      <td>Snack Foods</td>\n",
              "      <td>107.76</td>\n",
              "      <td>OUT027</td>\n",
              "      <td>1985</td>\n",
              "      <td>Medium</td>\n",
              "      <td>Tier 3</td>\n",
              "      <td>Supermarket Type3</td>\n",
              "      <td>4022.76</td>\n",
              "    </tr>\n",
              "    <tr>\n",
              "      <th>8</th>\n",
              "      <td>FDH17</td>\n",
              "      <td>16.20</td>\n",
              "      <td>Regular</td>\n",
              "      <td>0.016687</td>\n",
              "      <td>Frozen Foods</td>\n",
              "      <td>96.97</td>\n",
              "      <td>OUT045</td>\n",
              "      <td>2002</td>\n",
              "      <td>NaN</td>\n",
              "      <td>Tier 2</td>\n",
              "      <td>Supermarket Type1</td>\n",
              "      <td>1076.60</td>\n",
              "    </tr>\n",
              "    <tr>\n",
              "      <th>9</th>\n",
              "      <td>FDU28</td>\n",
              "      <td>19.20</td>\n",
              "      <td>Regular</td>\n",
              "      <td>0.094450</td>\n",
              "      <td>Frozen Foods</td>\n",
              "      <td>187.82</td>\n",
              "      <td>OUT017</td>\n",
              "      <td>2007</td>\n",
              "      <td>NaN</td>\n",
              "      <td>Tier 2</td>\n",
              "      <td>Supermarket Type1</td>\n",
              "      <td>4710.54</td>\n",
              "    </tr>\n",
              "    <tr>\n",
              "      <th>18</th>\n",
              "      <td>DRI11</td>\n",
              "      <td>NaN</td>\n",
              "      <td>Low Fat</td>\n",
              "      <td>0.034238</td>\n",
              "      <td>Hard Drinks</td>\n",
              "      <td>113.28</td>\n",
              "      <td>OUT027</td>\n",
              "      <td>1985</td>\n",
              "      <td>Medium</td>\n",
              "      <td>Tier 3</td>\n",
              "      <td>Supermarket Type3</td>\n",
              "      <td>2303.67</td>\n",
              "    </tr>\n",
              "    <tr>\n",
              "      <th>...</th>\n",
              "      <td>...</td>\n",
              "      <td>...</td>\n",
              "      <td>...</td>\n",
              "      <td>...</td>\n",
              "      <td>...</td>\n",
              "      <td>...</td>\n",
              "      <td>...</td>\n",
              "      <td>...</td>\n",
              "      <td>...</td>\n",
              "      <td>...</td>\n",
              "      <td>...</td>\n",
              "      <td>...</td>\n",
              "    </tr>\n",
              "    <tr>\n",
              "      <th>8504</th>\n",
              "      <td>NCN18</td>\n",
              "      <td>NaN</td>\n",
              "      <td>Low Fat</td>\n",
              "      <td>0.124111</td>\n",
              "      <td>Household</td>\n",
              "      <td>111.75</td>\n",
              "      <td>OUT027</td>\n",
              "      <td>1985</td>\n",
              "      <td>Medium</td>\n",
              "      <td>Tier 3</td>\n",
              "      <td>Supermarket Type3</td>\n",
              "      <td>4138.61</td>\n",
              "    </tr>\n",
              "    <tr>\n",
              "      <th>8508</th>\n",
              "      <td>FDW31</td>\n",
              "      <td>11.35</td>\n",
              "      <td>Regular</td>\n",
              "      <td>0.043246</td>\n",
              "      <td>Fruits and Vegetables</td>\n",
              "      <td>199.47</td>\n",
              "      <td>OUT045</td>\n",
              "      <td>2002</td>\n",
              "      <td>NaN</td>\n",
              "      <td>Tier 2</td>\n",
              "      <td>Supermarket Type1</td>\n",
              "      <td>2587.96</td>\n",
              "    </tr>\n",
              "    <tr>\n",
              "      <th>8509</th>\n",
              "      <td>FDG45</td>\n",
              "      <td>8.10</td>\n",
              "      <td>Low Fat</td>\n",
              "      <td>0.214306</td>\n",
              "      <td>Fruits and Vegetables</td>\n",
              "      <td>213.99</td>\n",
              "      <td>OUT010</td>\n",
              "      <td>1998</td>\n",
              "      <td>NaN</td>\n",
              "      <td>Tier 3</td>\n",
              "      <td>Supermarket Type4</td>\n",
              "      <td>424.78</td>\n",
              "    </tr>\n",
              "    <tr>\n",
              "      <th>8514</th>\n",
              "      <td>FDA01</td>\n",
              "      <td>15.00</td>\n",
              "      <td>Regular</td>\n",
              "      <td>0.054489</td>\n",
              "      <td>Canned</td>\n",
              "      <td>57.59</td>\n",
              "      <td>OUT045</td>\n",
              "      <td>2002</td>\n",
              "      <td>NaN</td>\n",
              "      <td>Tier 2</td>\n",
              "      <td>Supermarket Type1</td>\n",
              "      <td>468.72</td>\n",
              "    </tr>\n",
              "    <tr>\n",
              "      <th>8519</th>\n",
              "      <td>FDS36</td>\n",
              "      <td>8.38</td>\n",
              "      <td>Regular</td>\n",
              "      <td>0.046982</td>\n",
              "      <td>Baking Goods</td>\n",
              "      <td>108.16</td>\n",
              "      <td>OUT045</td>\n",
              "      <td>2002</td>\n",
              "      <td>NaN</td>\n",
              "      <td>Tier 2</td>\n",
              "      <td>Supermarket Type1</td>\n",
              "      <td>549.28</td>\n",
              "    </tr>\n",
              "  </tbody>\n",
              "</table>\n",
              "<p>3873 rows × 12 columns</p>\n",
              "</div>\n",
              "      <button class=\"colab-df-convert\" onclick=\"convertToInteractive('df-93b005c1-20ac-4ee7-aa09-69b77944f6df')\"\n",
              "              title=\"Convert this dataframe to an interactive table.\"\n",
              "              style=\"display:none;\">\n",
              "        \n",
              "  <svg xmlns=\"http://www.w3.org/2000/svg\" height=\"24px\"viewBox=\"0 0 24 24\"\n",
              "       width=\"24px\">\n",
              "    <path d=\"M0 0h24v24H0V0z\" fill=\"none\"/>\n",
              "    <path d=\"M18.56 5.44l.94 2.06.94-2.06 2.06-.94-2.06-.94-.94-2.06-.94 2.06-2.06.94zm-11 1L8.5 8.5l.94-2.06 2.06-.94-2.06-.94L8.5 2.5l-.94 2.06-2.06.94zm10 10l.94 2.06.94-2.06 2.06-.94-2.06-.94-.94-2.06-.94 2.06-2.06.94z\"/><path d=\"M17.41 7.96l-1.37-1.37c-.4-.4-.92-.59-1.43-.59-.52 0-1.04.2-1.43.59L10.3 9.45l-7.72 7.72c-.78.78-.78 2.05 0 2.83L4 21.41c.39.39.9.59 1.41.59.51 0 1.02-.2 1.41-.59l7.78-7.78 2.81-2.81c.8-.78.8-2.07 0-2.86zM5.41 20L4 18.59l7.72-7.72 1.47 1.35L5.41 20z\"/>\n",
              "  </svg>\n",
              "      </button>\n",
              "      \n",
              "  <style>\n",
              "    .colab-df-container {\n",
              "      display:flex;\n",
              "      flex-wrap:wrap;\n",
              "      gap: 12px;\n",
              "    }\n",
              "\n",
              "    .colab-df-convert {\n",
              "      background-color: #E8F0FE;\n",
              "      border: none;\n",
              "      border-radius: 50%;\n",
              "      cursor: pointer;\n",
              "      display: none;\n",
              "      fill: #1967D2;\n",
              "      height: 32px;\n",
              "      padding: 0 0 0 0;\n",
              "      width: 32px;\n",
              "    }\n",
              "\n",
              "    .colab-df-convert:hover {\n",
              "      background-color: #E2EBFA;\n",
              "      box-shadow: 0px 1px 2px rgba(60, 64, 67, 0.3), 0px 1px 3px 1px rgba(60, 64, 67, 0.15);\n",
              "      fill: #174EA6;\n",
              "    }\n",
              "\n",
              "    [theme=dark] .colab-df-convert {\n",
              "      background-color: #3B4455;\n",
              "      fill: #D2E3FC;\n",
              "    }\n",
              "\n",
              "    [theme=dark] .colab-df-convert:hover {\n",
              "      background-color: #434B5C;\n",
              "      box-shadow: 0px 1px 3px 1px rgba(0, 0, 0, 0.15);\n",
              "      filter: drop-shadow(0px 1px 2px rgba(0, 0, 0, 0.3));\n",
              "      fill: #FFFFFF;\n",
              "    }\n",
              "  </style>\n",
              "\n",
              "      <script>\n",
              "        const buttonEl =\n",
              "          document.querySelector('#df-93b005c1-20ac-4ee7-aa09-69b77944f6df button.colab-df-convert');\n",
              "        buttonEl.style.display =\n",
              "          google.colab.kernel.accessAllowed ? 'block' : 'none';\n",
              "\n",
              "        async function convertToInteractive(key) {\n",
              "          const element = document.querySelector('#df-93b005c1-20ac-4ee7-aa09-69b77944f6df');\n",
              "          const dataTable =\n",
              "            await google.colab.kernel.invokeFunction('convertToInteractive',\n",
              "                                                     [key], {});\n",
              "          if (!dataTable) return;\n",
              "\n",
              "          const docLinkHtml = 'Like what you see? Visit the ' +\n",
              "            '<a target=\"_blank\" href=https://colab.research.google.com/notebooks/data_table.ipynb>data table notebook</a>'\n",
              "            + ' to learn more about interactive tables.';\n",
              "          element.innerHTML = '';\n",
              "          dataTable['output_type'] = 'display_data';\n",
              "          await google.colab.output.renderOutput(dataTable, element);\n",
              "          const docLink = document.createElement('div');\n",
              "          docLink.innerHTML = docLinkHtml;\n",
              "          element.appendChild(docLink);\n",
              "        }\n",
              "      </script>\n",
              "    </div>\n",
              "  </div>\n",
              "  "
            ]
          },
          "metadata": {},
          "execution_count": 147
        }
      ]
    },
    {
      "cell_type": "markdown",
      "source": [],
      "metadata": {
        "id": "_0bCGmkfav4U"
      }
    },
    {
      "cell_type": "markdown",
      "source": [
        "    * Missing Values\n",
        "      *There are 1463 missing values in the Item_Weight column. (17.1%)\n",
        "      *There are 2410 missing values in the Outlet_Size column. (28.27%)\n",
        "    *In order to make informed decisions about have to handle missing data, we will do some additional EDA\n",
        "    "
      ],
      "metadata": {
        "id": "Qy0K0_tFX4gC"
      }
    },
    {
      "cell_type": "markdown",
      "source": [
        "## Evaluating missing values"
      ],
      "metadata": {
        "id": "dyF5fCBruuiM"
      }
    },
    {
      "cell_type": "code",
      "source": [
        "#value counts prior to remedy\n",
        "df['Item_Weight'].value_counts()"
      ],
      "metadata": {
        "colab": {
          "base_uri": "https://localhost:8080/"
        },
        "id": "gm6Q3Rpocphj",
        "outputId": "552b813e-0c66-4522-d9b9-19f8697a79b2"
      },
      "execution_count": 142,
      "outputs": [
        {
          "output_type": "execute_result",
          "data": {
            "text/plain": [
              "12.150    86\n",
              "17.600    82\n",
              "13.650    77\n",
              "11.800    76\n",
              "15.100    68\n",
              "          ..\n",
              "7.275      2\n",
              "7.685      1\n",
              "9.420      1\n",
              "6.520      1\n",
              "5.400      1\n",
              "Name: Item_Weight, Length: 415, dtype: int64"
            ]
          },
          "metadata": {},
          "execution_count": 142
        }
      ]
    },
    {
      "cell_type": "markdown",
      "source": [
        "Resolving NAN values"
      ],
      "metadata": {
        "id": "4oP9iVIRdRC6"
      }
    },
    {
      "cell_type": "code",
      "source": [
        "df['Item_Weight'] = df['Item_Weight'].fillna(method = 'ffill').fillna(method = 'bfill')"
      ],
      "metadata": {
        "id": "umRgoMEOdU03"
      },
      "execution_count": 148,
      "outputs": []
    },
    {
      "cell_type": "code",
      "source": [
        "#value counts after remedy\n",
        "df['Item_Weight'].value_counts()"
      ],
      "metadata": {
        "colab": {
          "base_uri": "https://localhost:8080/"
        },
        "id": "zn9D0826d2G2",
        "outputId": "31ea248c-e713-4015-dc33-9d5a1b255f0e"
      },
      "execution_count": 179,
      "outputs": [
        {
          "output_type": "execute_result",
          "data": {
            "text/plain": [
              "12.150    103\n",
              "13.650     98\n",
              "17.600     94\n",
              "11.800     91\n",
              "9.300      84\n",
              "         ... \n",
              "7.560       2\n",
              "5.400       2\n",
              "7.685       1\n",
              "9.420       1\n",
              "6.520       1\n",
              "Name: Item_Weight, Length: 415, dtype: int64"
            ]
          },
          "metadata": {},
          "execution_count": 179
        }
      ]
    },
    {
      "cell_type": "markdown",
      "source": [
        "Used method filling cell with previous valid cell to cure NAN in 'Item_Weight'"
      ],
      "metadata": {
        "id": "CIelnZdNcVg_"
      }
    },
    {
      "cell_type": "code",
      "source": [
        "df.isna().sum()"
      ],
      "metadata": {
        "colab": {
          "base_uri": "https://localhost:8080/"
        },
        "id": "CyCZt9VQfxJq",
        "outputId": "8a16aa18-e312-46a8-8ec5-d42f8868f8b5"
      },
      "execution_count": 156,
      "outputs": [
        {
          "output_type": "execute_result",
          "data": {
            "text/plain": [
              "Item_Identifier                 0\n",
              "Item_Weight                     0\n",
              "Item_Fat_Content                0\n",
              "Item_Visibility                 0\n",
              "Item_Type                       0\n",
              "Item_MRP                        0\n",
              "Outlet_Identifier               0\n",
              "Outlet_Establishment_Year       0\n",
              "Outlet_Size                  2410\n",
              "Outlet_Location_Type            0\n",
              "Outlet_Type                     0\n",
              "Item_Outlet_Sales               0\n",
              "dtype: int64"
            ]
          },
          "metadata": {},
          "execution_count": 156
        }
      ]
    },
    {
      "cell_type": "markdown",
      "source": [
        "Resolving NAN values in 'Outlet_Size'.  Previous method for 'Item Weight' should similarly work for this issue since the values are strings"
      ],
      "metadata": {
        "id": "2gkLqI4weV86"
      }
    },
    {
      "cell_type": "code",
      "source": [
        "#value counts prior to remedy\n",
        "df['Outlet_Size'].value_counts()"
      ],
      "metadata": {
        "colab": {
          "base_uri": "https://localhost:8080/"
        },
        "id": "g7ZzwyVyeFqc",
        "outputId": "db4db79f-7f42-4edb-951d-5c107a042d3e"
      },
      "execution_count": 157,
      "outputs": [
        {
          "output_type": "execute_result",
          "data": {
            "text/plain": [
              "Medium    2793\n",
              "Small     2388\n",
              "High       932\n",
              "Name: Outlet_Size, dtype: int64"
            ]
          },
          "metadata": {},
          "execution_count": 157
        }
      ]
    },
    {
      "cell_type": "code",
      "source": [
        "df['Outlet_Size'] = df['Outlet_Size'].fillna(method = 'ffill').fillna(method = 'bfill')"
      ],
      "metadata": {
        "id": "pTjbMR57W1G_"
      },
      "execution_count": 158,
      "outputs": []
    },
    {
      "cell_type": "code",
      "source": [
        "#value counts after remedy\n",
        "df['Outlet_Size'].value_counts()"
      ],
      "metadata": {
        "colab": {
          "base_uri": "https://localhost:8080/"
        },
        "id": "jbllVmPwYL2P",
        "outputId": "5c989f1b-9ca0-477e-a8fc-dca8ed9b5bc6"
      },
      "execution_count": 177,
      "outputs": [
        {
          "output_type": "execute_result",
          "data": {
            "text/plain": [
              "Medium    3912\n",
              "Small     3321\n",
              "High      1290\n",
              "Name: Outlet_Size, dtype: int64"
            ]
          },
          "metadata": {},
          "execution_count": 177
        }
      ]
    },
    {
      "cell_type": "markdown",
      "source": [
        "All NAN values removed"
      ],
      "metadata": {
        "id": "meldDTdtf-F5"
      }
    },
    {
      "cell_type": "code",
      "source": [
        "df.isna().sum()"
      ],
      "metadata": {
        "colab": {
          "base_uri": "https://localhost:8080/"
        },
        "id": "2XH36wyOgJX7",
        "outputId": "8533678b-183f-430b-d240-1181d38b9f5c"
      },
      "execution_count": 160,
      "outputs": [
        {
          "output_type": "execute_result",
          "data": {
            "text/plain": [
              "Item_Identifier              0\n",
              "Item_Weight                  0\n",
              "Item_Fat_Content             0\n",
              "Item_Visibility              0\n",
              "Item_Type                    0\n",
              "Item_MRP                     0\n",
              "Outlet_Identifier            0\n",
              "Outlet_Establishment_Year    0\n",
              "Outlet_Size                  0\n",
              "Outlet_Location_Type         0\n",
              "Outlet_Type                  0\n",
              "Item_Outlet_Sales            0\n",
              "dtype: int64"
            ]
          },
          "metadata": {},
          "execution_count": 160
        }
      ]
    },
    {
      "cell_type": "markdown",
      "source": [
        "## Explanatory Visuals"
      ],
      "metadata": {
        "id": "SZCaiohHumij"
      }
    },
    {
      "cell_type": "markdown",
      "source": [
        "See below for results of cured data sets."
      ],
      "metadata": {
        "id": "B38aifB0oKDm"
      }
    },
    {
      "cell_type": "code",
      "source": [
        "res=df['Item_Weight']\n",
        "\n",
        "axs = res.plot.area(figsize=(50,10), subplots = True)\n",
        "\n",
        "plt.show()\n",
        "\n",
        "df['Outlet_Size'].value_counts()[:20].plot(kind='barh')"
      ],
      "metadata": {
        "id": "zpc4wXCdvDeT",
        "colab": {
          "base_uri": "https://localhost:8080/",
          "height": 841
        },
        "outputId": "c04a8827-ef29-484b-fde6-85c7241686fe"
      },
      "execution_count": 201,
      "outputs": [
        {
          "output_type": "display_data",
          "data": {
            "text/plain": [
              "<Figure size 3600x720 with 1 Axes>"
            ],
            "image/png": "[encoded data removed]"
          },
          "metadata": {}
        },
        {
          "output_type": "execute_result",
          "data": {
            "text/plain": [
              "<matplotlib.axes._subplots.AxesSubplot at 0x7f596fb0bfa0>"
            ]
          },
          "metadata": {},
          "execution_count": 201
        },
        {
          "output_type": "display_data",
          "data": {
            "text/plain": [
              "<Figure size 921.6x633.6 with 1 Axes>"
            ],
            "image/png": "[encoded data removed]"
          },
          "metadata": {}
        }
      ]
    },
    {
      "cell_type": "markdown",
      "source": [
        "#Min, Max, Mean of datasets"
      ],
      "metadata": {
        "id": "YiGSBMdjozVN"
      }
    },
    {
      "cell_type": "markdown",
      "source": [
        "Item_Weight"
      ],
      "metadata": {
        "id": "jSprSHTEqwpF"
      }
    },
    {
      "cell_type": "code",
      "source": [
        "\n",
        "df['Item_Weight'].describe()"
      ],
      "metadata": {
        "colab": {
          "base_uri": "https://localhost:8080/"
        },
        "id": "pmRI86too4Dh",
        "outputId": "da6c3c2b-f139-4578-e41c-bdd963a23356"
      },
      "execution_count": 208,
      "outputs": [
        {
          "output_type": "execute_result",
          "data": {
            "text/plain": [
              "count    8523.000000\n",
              "mean       12.849649\n",
              "std         4.631020\n",
              "min         4.555000\n",
              "25%         8.785000\n",
              "50%        12.600000\n",
              "75%        16.750000\n",
              "max        21.350000\n",
              "Name: Item_Weight, dtype: float64"
            ]
          },
          "metadata": {},
          "execution_count": 208
        }
      ]
    },
    {
      "cell_type": "markdown",
      "source": [
        "Item_Visibility"
      ],
      "metadata": {
        "id": "aAum_e_1rUWd"
      }
    },
    {
      "cell_type": "code",
      "source": [
        "df['Item_Visibility'].describe()"
      ],
      "metadata": {
        "colab": {
          "base_uri": "https://localhost:8080/"
        },
        "id": "rnTd2EnPrgHj",
        "outputId": "3167af8a-9210-481d-dea6-87add959f090"
      },
      "execution_count": 209,
      "outputs": [
        {
          "output_type": "execute_result",
          "data": {
            "text/plain": [
              "count    8523.000000\n",
              "mean        0.066132\n",
              "std         0.051598\n",
              "min         0.000000\n",
              "25%         0.026989\n",
              "50%         0.053931\n",
              "75%         0.094585\n",
              "max         0.328391\n",
              "Name: Item_Visibility, dtype: float64"
            ]
          },
          "metadata": {},
          "execution_count": 209
        }
      ]
    },
    {
      "cell_type": "markdown",
      "source": [
        "Item_MRP"
      ],
      "metadata": {
        "id": "1oPsnVoHrrqH"
      }
    },
    {
      "cell_type": "code",
      "source": [
        "df['Item_MRP'].describe()"
      ],
      "metadata": {
        "colab": {
          "base_uri": "https://localhost:8080/"
        },
        "id": "DddRY8qisD9n",
        "outputId": "83f05f6e-e12d-427d-cbef-3a7022b52250"
      },
      "execution_count": 210,
      "outputs": [
        {
          "output_type": "execute_result",
          "data": {
            "text/plain": [
              "count    8523.000000\n",
              "mean      140.992810\n",
              "std        62.275166\n",
              "min        31.290000\n",
              "25%        93.825000\n",
              "50%       143.010000\n",
              "75%       185.645000\n",
              "max       266.890000\n",
              "Name: Item_MRP, dtype: float64"
            ]
          },
          "metadata": {},
          "execution_count": 210
        }
      ]
    },
    {
      "cell_type": "markdown",
      "source": [
        "Outlet_Establishment_Year"
      ],
      "metadata": {
        "id": "aTY63fWEsL1x"
      }
    },
    {
      "cell_type": "code",
      "source": [
        "df['Outlet_Establishment_Year'].describe()"
      ],
      "metadata": {
        "colab": {
          "base_uri": "https://localhost:8080/"
        },
        "id": "dITZiPYusTIq",
        "outputId": "6ded151f-02da-4bf3-98ce-156f973d758a"
      },
      "execution_count": 211,
      "outputs": [
        {
          "output_type": "execute_result",
          "data": {
            "text/plain": [
              "count    8523.000000\n",
              "mean     1997.831867\n",
              "std         8.371760\n",
              "min      1985.000000\n",
              "25%      1987.000000\n",
              "50%      1999.000000\n",
              "75%      2004.000000\n",
              "max      2009.000000\n",
              "Name: Outlet_Establishment_Year, dtype: float64"
            ]
          },
          "metadata": {},
          "execution_count": 211
        }
      ]
    },
    {
      "cell_type": "markdown",
      "source": [
        "Item_Outlet_Sales"
      ],
      "metadata": {
        "id": "ar6NCNg6sdZI"
      }
    },
    {
      "cell_type": "code",
      "source": [
        "df['Item_Outlet_Sales'].describe()"
      ],
      "metadata": {
        "colab": {
          "base_uri": "https://localhost:8080/"
        },
        "id": "rbz_nzmRshmU",
        "outputId": "3c62510e-4599-4ea5-c055-158f8e51c5c6"
      },
      "execution_count": 212,
      "outputs": [
        {
          "output_type": "execute_result",
          "data": {
            "text/plain": [
              "count     8523.000000\n",
              "mean      2181.288926\n",
              "std       1706.499605\n",
              "min         33.290000\n",
              "25%        834.245000\n",
              "50%       1794.330000\n",
              "75%       3101.300000\n",
              "max      13086.960000\n",
              "Name: Item_Outlet_Sales, dtype: float64"
            ]
          },
          "metadata": {},
          "execution_count": 212
        }
      ]
    }
  ]
}